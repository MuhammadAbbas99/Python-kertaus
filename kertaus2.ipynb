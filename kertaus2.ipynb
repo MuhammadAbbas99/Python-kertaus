{
 "cells": [
  {
   "cell_type": "code",
   "execution_count": 22,
   "id": "0efdcdfa",
   "metadata": {},
   "outputs": [],
   "source": [
    "#Tähän voi kirjoitta itselleen muistiinpanoja"
   ]
  },
  {
   "cell_type": "code",
   "execution_count": 23,
   "id": "5323a432",
   "metadata": {},
   "outputs": [
    {
     "data": {
      "text/plain": [
       "'kissa'"
      ]
     },
     "execution_count": 23,
     "metadata": {},
     "output_type": "execute_result"
    }
   ],
   "source": [
    "x = 'kissa'\n",
    "x"
   ]
  },
  {
   "cell_type": "code",
   "execution_count": 24,
   "id": "1edceeb5",
   "metadata": {},
   "outputs": [
    {
     "name": "stdout",
     "output_type": "stream",
     "text": [
      "1000.0\n"
     ]
    }
   ],
   "source": [
    "def värö(t):\n",
    "    ver = 0\n",
    "    if  0 < t <= 10000:\n",
    "        ver = 0*t\n",
    "        return ver\n",
    "    elif  10000 < t <= 20000:\n",
    "        ver = 0.1 * ( t - 10000)\n",
    "        return ver\n",
    "    elif  20000 < t:\n",
    "        ver_1 = 0.1 * 10000\n",
    "        ver_2 = 0.2 * ( t - 20000)\n",
    "        ver = ver_1 + ver_2\n",
    "        return ver\n",
    "    else:\n",
    "        return 0\n",
    "\n",
    "a = int(input('Olka hyvä ja laitakaa vuosi tuolt: '))\n",
    "vero = värö(a)\n",
    "print(vero)"
   ]
  },
  {
   "cell_type": "code",
   "execution_count": 25,
   "id": "5de15c91",
   "metadata": {},
   "outputs": [
    {
     "data": {
      "text/plain": [
       "5"
      ]
     },
     "execution_count": 25,
     "metadata": {},
     "output_type": "execute_result"
    }
   ],
   "source": [
    "from kertaus import laskeyhteen\n",
    "laskeyhteen()\n",
    "laskeyhteen(2,3)\n"
   ]
  },
  {
   "cell_type": "code",
   "execution_count": null,
   "id": "0fa70313",
   "metadata": {},
   "outputs": [
    {
     "name": "stdout",
     "output_type": "stream",
     "text": [
      "['__doc__', '__loader__', '__name__', '__package__', '__spec__', 'acos', 'acosh', 'asin', 'asinh', 'atan', 'atan2', 'atanh', 'cbrt', 'ceil', 'comb', 'copysign', 'cos', 'cosh', 'degrees', 'dist', 'e', 'erf', 'erfc', 'exp', 'exp2', 'expm1', 'fabs', 'factorial', 'floor', 'fma', 'fmod', 'frexp', 'fsum', 'gamma', 'gcd', 'hypot', 'inf', 'isclose', 'isfinite', 'isinf', 'isnan', 'isqrt', 'lcm', 'ldexp', 'lgamma', 'log', 'log10', 'log1p', 'log2', 'modf', 'nan', 'nextafter', 'perm', 'pi', 'pow', 'prod', 'radians', 'remainder', 'sin', 'sinh', 'sqrt', 'sumprod', 'tan', 'tanh', 'tau', 'trunc', 'ulp']\n"
     ]
    }
   ],
   "source": [
    "import math\n",
    "\n",
    "print(dir(math))\n",
    "\n"
   ]
  },
  {
   "cell_type": "code",
   "execution_count": 27,
   "id": "180cfec8",
   "metadata": {},
   "outputs": [
    {
     "name": "stdout",
     "output_type": "stream",
     "text": [
      "['BPF', 'LOG4', 'NV_MAGICCONST', 'RECIP_BPF', 'Random', 'SG_MAGICCONST', 'SystemRandom', 'TWOPI', '_ONE', '_Sequence', '__all__', '__builtins__', '__cached__', '__doc__', '__file__', '__loader__', '__name__', '__package__', '__spec__', '_accumulate', '_acos', '_bisect', '_ceil', '_cos', '_e', '_exp', '_fabs', '_floor', '_index', '_inst', '_isfinite', '_lgamma', '_log', '_log2', '_os', '_parse_args', '_pi', '_random', '_repeat', '_sha512', '_sin', '_sqrt', '_test', '_test_generator', '_urandom', 'betavariate', 'binomialvariate', 'choice', 'choices', 'expovariate', 'gammavariate', 'gauss', 'getrandbits', 'getstate', 'lognormvariate', 'main', 'normalvariate', 'paretovariate', 'randbytes', 'randint', 'random', 'randrange', 'sample', 'seed', 'setstate', 'shuffle', 'triangular', 'uniform', 'vonmisesvariate', 'weibullvariate']\n"
     ]
    }
   ],
   "source": [
    "import random\n",
    "\n",
    "print(dir(random))"
   ]
  },
  {
   "cell_type": "code",
   "execution_count": 57,
   "id": "7f6711a0",
   "metadata": {},
   "outputs": [
    {
     "name": "stdout",
     "output_type": "stream",
     "text": [
      "Nopan luku: 46\n"
     ]
    }
   ],
   "source": [
    "from random import randint\n",
    "\n",
    "# satunnaisia kokonaislukuja\n",
    "\n",
    "print(\"Nopan luku:\", randint(1,66))"
   ]
  },
  {
   "cell_type": "code",
   "execution_count": 20,
   "id": "c02739fa",
   "metadata": {},
   "outputs": [
    {
     "name": "stdout",
     "output_type": "stream",
     "text": [
      "Nopan luku: 5\n",
      "Nopan luku: 4\n",
      "Nopan luku: 5\n",
      "Nopan luku: 6\n",
      "Nopan luku: 5\n",
      "Nopan luku: 1\n",
      "Nopan luku: 2\n",
      "Nopan luku: 3\n",
      "Nopan luku: 6\n",
      "Nopan luku: 1\n"
     ]
    }
   ],
   "source": [
    "# tietty määrä satunnaisia kokonaislukuja\n",
    "from random import randint\n",
    "\n",
    "for i in range(10):             #arvotaan 10 eri lukua\n",
    "    print(\"Nopan luku:\", randint(1,6))"
   ]
  },
  {
   "cell_type": "code",
   "execution_count": 152,
   "id": "1970d0dd",
   "metadata": {},
   "outputs": [
    {
     "name": "stdout",
     "output_type": "stream",
     "text": [
      "['banaani', 'apina', 'cembalo']\n"
     ]
    }
   ],
   "source": [
    "from random import shuffle\n",
    "\n",
    "sanat = [\"apina\", \"banaani\", \"cembalo\"]\n",
    "shuffle(sanat)\n",
    "print(sanat)\n"
   ]
  },
  {
   "cell_type": "code",
   "execution_count": 157,
   "id": "e0ecb47c",
   "metadata": {},
   "outputs": [
    {
     "name": "stdout",
     "output_type": "stream",
     "text": [
      "[15, 8, 28, 1, 9, 5, 26]\n"
     ]
    }
   ],
   "source": [
    "from random import sample\n",
    "numerot = list(range(1,41))\n",
    "lottorivi = sample(numerot, 7)\n",
    "\n",
    "print(lottorivi)"
   ]
  },
  {
   "cell_type": "code",
   "execution_count": null,
   "id": "611d2cd2",
   "metadata": {},
   "outputs": [
    {
     "ename": "TypeError",
     "evalue": "Random.sample() missing 1 required positional argument: 'k'",
     "output_type": "error",
     "traceback": [
      "\u001b[31m---------------------------------------------------------------------------\u001b[39m",
      "\u001b[31mTypeError\u001b[39m                                 Traceback (most recent call last)",
      "\u001b[36mCell\u001b[39m\u001b[36m \u001b[39m\u001b[32mIn[174]\u001b[39m\u001b[32m, line 3\u001b[39m\n\u001b[32m      1\u001b[39m \u001b[38;5;28;01mfrom\u001b[39;00m\u001b[38;5;250m \u001b[39m\u001b[34;01mrandom\u001b[39;00m\u001b[38;5;250m \u001b[39m\u001b[38;5;28;01mimport\u001b[39;00m choice, sample\n\u001b[32m      2\u001b[39m sanat = [\u001b[33m\"\u001b[39m\u001b[33muuusk\u001b[39m\u001b[33m\"\u001b[39m, \u001b[33m\"\u001b[39m\u001b[33mfewf\u001b[39m\u001b[33m\"\u001b[39m, \u001b[33m\"\u001b[39m\u001b[33mhelen\u001b[39m\u001b[33m\"\u001b[39m, \u001b[33m\"\u001b[39m\u001b[33menrgia\u001b[39m\u001b[33m\"\u001b[39m, \u001b[33m\"\u001b[39m\u001b[33mvattenfall\u001b[39m\u001b[33m\"\u001b[39m]\n\u001b[32m----> \u001b[39m\u001b[32m3\u001b[39m \u001b[38;5;28mprint\u001b[39m(\u001b[43msample\u001b[49m\u001b[43m(\u001b[49m\u001b[43msanat\u001b[49m\u001b[43m)\u001b[49m)\n",
      "\u001b[31mTypeError\u001b[39m: Random.sample() missing 1 required positional argument: 'k'"
     ]
    }
   ],
   "source": [
    "from random import choice\n",
    "sanat = [\"uuusk\", \"fewf\", \"helen\", \"enrgia\", \"vattenfall\"]\n",
    "print(choice(sanat))"
   ]
  },
  {
   "cell_type": "code",
   "execution_count": 92,
   "id": "275d3d20",
   "metadata": {},
   "outputs": [
    {
     "name": "stdout",
     "output_type": "stream",
     "text": [
      "None\n",
      "59\n"
     ]
    }
   ],
   "source": [
    "from random import randint, seed\n",
    "print(seed(40))\n",
    "print(randint(1,100))"
   ]
  },
  {
   "cell_type": "code",
   "execution_count": 101,
   "id": "853226b4",
   "metadata": {},
   "outputs": [
    {
     "name": "stdout",
     "output_type": "stream",
     "text": [
      "6\n",
      "6\n",
      "6\n"
     ]
    }
   ],
   "source": [
    "import random\n",
    "\n",
    "noppa = [1,2,3,4,5,6]\n",
    "for luku in range(3):\n",
    "    seed(42)\n",
    "    print(random.choice(noppa))\n"
   ]
  },
  {
   "cell_type": "code",
   "execution_count": null,
   "id": "39872627",
   "metadata": {},
   "outputs": [
    {
     "name": "stdout",
     "output_type": "stream",
     "text": [
      "2025-09-18 10:30:15.207295\n",
      "18.09.25\n"
     ]
    }
   ],
   "source": [
    "from datetime import datetime\n",
    "\n",
    "aikaNyt = datetime.now()\n",
    "print(aikaNyt)\n",
    "\n",
    "print(aikaNyt.strftime(\"%d.%m.%y\"))\n"
   ]
  },
  {
   "cell_type": "code",
   "execution_count": 7,
   "id": "eb0b62bd",
   "metadata": {},
   "outputs": [
    {
     "name": "stdout",
     "output_type": "stream",
     "text": [
      "31.03.20, 10.53.00\n"
     ]
    }
   ],
   "source": [
    "from datetime import datetime\n",
    "\n",
    "aika = datetime(2020, 3,31, 10,53)\n",
    "print(aika.strftime(\"%d.%m.%y, %H.%M.%S\"))\n"
   ]
  },
  {
   "cell_type": "code",
   "execution_count": 24,
   "id": "7a634a6b",
   "metadata": {},
   "outputs": [
    {
     "name": "stdout",
     "output_type": "stream",
     "text": [
      "ei ole juhannus\n",
      "juhannukseen on vielä 273 päivää\n"
     ]
    }
   ],
   "source": [
    "from datetime import datetime\n",
    "\n",
    "nyt = datetime.now()\n",
    "juhannus = datetime(2026, 6,19)\n",
    "\n",
    "if nyt < juhannus:\n",
    "    print(\"ei ole juhannus\")\n",
    "elif nyt == juhannus:\n",
    "    print(\"Hyvää juhannusta\")\n",
    "elif nyt > juhannus:\n",
    "    print(\"juhannus ole mennyt\")\n",
    "\n",
    "erotus = juhannus - nyt\n",
    "print('juhannukseen on vielä', erotus.days, 'päivää')"
   ]
  },
  {
   "cell_type": "code",
   "execution_count": 32,
   "id": "b14e7924",
   "metadata": {},
   "outputs": [
    {
     "name": "stdout",
     "output_type": "stream",
     "text": [
      "synnyit tällä vuosituhanella\n"
     ]
    }
   ],
   "source": [
    "from datetime import datetime\n",
    "\n",
    "syote = input('Anna syntymäpäiväsi muodossa pv.kk.vvvv:')\n",
    "aika = datetime.strptime(syote, '%d.%m.%Y')\n",
    "\n",
    "if aika < datetime(2000,1,1):\n",
    "    print('synnyit viime vuosituhanella')\n",
    "else:\n",
    "    print('synnyit tällä vuosituhanella')"
   ]
  },
  {
   "cell_type": "code",
   "execution_count": 33,
   "id": "b4958a0a",
   "metadata": {},
   "outputs": [
    {
     "name": "stdout",
     "output_type": "stream",
     "text": [
      "Friday\n",
      "3\n"
     ]
    }
   ],
   "source": [
    "from datetime import datetime\n",
    "\n",
    "pvm = datetime(2023,3, 31)\n",
    "print(pvm.strftime('%A'))\n",
    "\n",
    "print(pvm.today().weekday())"
   ]
  },
  {
   "cell_type": "code",
   "execution_count": 37,
   "id": "523f4b60",
   "metadata": {},
   "outputs": [
    {
     "name": "stdout",
     "output_type": "stream",
     "text": [
      "{'pekka': ['0451745344', '09-2039485'], 'emilia': ['045-1212344'], 'maija': '04000000', 'matti': '12154545'}\n",
      "{\"pekka\": [\"0451745344\", \"09-2039485\"], \"emilia\": [\"045-1212344\"], \"maija\": \"04000000\", \"matti\": \"12154545\"}\n"
     ]
    }
   ],
   "source": [
    "import json\n",
    "\n",
    "#luodaan puhelinlettelo sanakirjat-muotoon\n",
    "\n",
    "henkilöt = {\n",
    "    \"pekka\": ['0451745344', '09-2039485'],\n",
    "    'emilia': ['045-1212344'],\n",
    "    'maija': '04000000',\n",
    "    'matti': '12154545'\n",
    "}\n",
    "\n",
    "print(henkilöt)\n",
    "\n",
    "json_henkilöt = json.dumps(henkilöt)\n",
    "print(json_henkilöt)\n",
    "\n",
    "\n",
    "with open(\"henkilöt.json\", \"w\") as file:\n",
    "    json.dump(henkilöt, file)\n",
    "\n"
   ]
  },
  {
   "cell_type": "code",
   "execution_count": 39,
   "id": "bb958050",
   "metadata": {},
   "outputs": [
    {
     "data": {
      "text/plain": [
       "{'pekka': ['0451745344', '09-2039485'],\n",
       " 'emilia': ['045-1212344'],\n",
       " 'maija': '04000000',\n",
       " 'matti': '12154545'}"
      ]
     },
     "execution_count": 39,
     "metadata": {},
     "output_type": "execute_result"
    }
   ],
   "source": [
    "with open ('henkilöt.json') as file:\n",
    "    data = file.read()\n",
    "\n",
    "pnumerot = json.loads(data)\n",
    "pnumerot"
   ]
  },
  {
   "cell_type": "code",
   "execution_count": 41,
   "id": "5c5ad89d",
   "metadata": {},
   "outputs": [
    {
     "name": "stdout",
     "output_type": "stream",
     "text": [
      "b'{\"0\":{\"students\":220,\"hour_total\":286,\"exercise_total\":218,\"hours\":[null,176,11,3,1,1,null,null,6]},\"1\":{\"students\":176,\"hour_total\":2421,\"exercise_total\":2748,\"hours\":[null,6,3,3,4,9,5,8,13,4,28,1,14,2,3,20,2,4,3,null,15,1,1,null,6,5,null,1,2,null,8,null,null,null,null,1,null,null,null,null,2,2]},\"2\":{\"students\":143,\"hour_total\":1862,\"exercise_total\":1343,\"hours\":[null,1,1,5,5,8,8,3,10,7,21,1,11,6,1,11,7,2,4,null,10,null,null,null,4,3,1,null,null,null,3,2,null,null,null,5]},\"3\":{\"students\":99,\"hour_total\":1397,\"exercise_total\":679,\"hours\":[null,1,2,1,2,4,7,5,10,1,17,1,3,3,5,7,2,1,1,null,8,null,1,null,3,3,1,null,null,null,1,null,1,null,null,8]}}'\n"
     ]
    }
   ],
   "source": [
    "import urllib.request\n",
    "\n",
    "oma_pyyntö = urllib.request.urlopen('https://studies.cs.helsinki.fi/stats-mock/api/courses/docker2019/stats')\n",
    "print(oma_pyyntö.read())"
   ]
  },
  {
   "cell_type": "code",
   "execution_count": null,
   "id": "07a210d2",
   "metadata": {},
   "outputs": [
    {
     "ename": "AttributeError",
     "evalue": "'HTTPResponse' object has no attribute 'getCode'",
     "output_type": "error",
     "traceback": [
      "\u001b[31m---------------------------------------------------------------------------\u001b[39m",
      "\u001b[31mAttributeError\u001b[39m                            Traceback (most recent call last)",
      "\u001b[36mCell\u001b[39m\u001b[36m \u001b[39m\u001b[32mIn[44]\u001b[39m\u001b[32m, line 13\u001b[39m\n\u001b[32m     10\u001b[39m         \u001b[38;5;28mprint\u001b[39m(\u001b[33m\"\u001b[39m\u001b[33mError receiving data\u001b[39m\u001b[33m\"\u001b[39m, openUrl.getCode())\n\u001b[32m     11\u001b[39m     \u001b[38;5;28;01mreturn\u001b[39;00m data\n\u001b[32m---> \u001b[39m\u001b[32m13\u001b[39m \u001b[38;5;28mprint\u001b[39m(\u001b[38;5;28mtype\u001b[39m(\u001b[43mgetResponse\u001b[49m\u001b[43m(\u001b[49m\u001b[43murl\u001b[49m\u001b[43m)\u001b[49m))\n\u001b[32m     15\u001b[39m \u001b[38;5;28mprint\u001b[39m(getResponse(url).decode(\u001b[33m\"\u001b[39m\u001b[33mutf-8\u001b[39m\u001b[33m\"\u001b[39m).strip() )\n",
      "\u001b[36mCell\u001b[39m\u001b[36m \u001b[39m\u001b[32mIn[44]\u001b[39m\u001b[32m, line 7\u001b[39m, in \u001b[36mgetResponse\u001b[39m\u001b[34m(url)\u001b[39m\n\u001b[32m      5\u001b[39m \u001b[38;5;28;01mdef\u001b[39;00m\u001b[38;5;250m \u001b[39m\u001b[34mgetResponse\u001b[39m(url):\n\u001b[32m      6\u001b[39m     openUrl = urllib.request.urlopen(url)\n\u001b[32m----> \u001b[39m\u001b[32m7\u001b[39m     \u001b[38;5;28;01mif\u001b[39;00m (\u001b[43mopenUrl\u001b[49m\u001b[43m.\u001b[49m\u001b[43mgetCode\u001b[49m()==\u001b[32m200\u001b[39m):\n\u001b[32m      8\u001b[39m         data = openUrl.read()\n\u001b[32m      9\u001b[39m     \u001b[38;5;28;01melse\u001b[39;00m:\n",
      "\u001b[31mAttributeError\u001b[39m: 'HTTPResponse' object has no attribute 'getCode'"
     ]
    }
   ],
   "source": [
    "\"\"\" import urllib.request\n",
    "\n",
    "url = \"https://sampo.thl.fi/pivot/prod/fi/epirapo/covid19case/fact_epirapo_covid19case.json\"\n",
    "\n",
    "def getResponse(url):\n",
    "    openUrl = urllib.request.urlopen(url)\n",
    "    if (openUrl.getCode()==200):\n",
    "        data = openUrl.read()\n",
    "    else:\n",
    "        print(\"Error receiving data\", openUrl.getCode())\n",
    "    return data\n",
    "\n",
    "print(type(getResponse(url)))\n",
    "\n",
    "print(getResponse(url).decode(\"utf-8\").strip() ) \"\"\""
   ]
  },
  {
   "cell_type": "code",
   "execution_count": 46,
   "id": "3e896b8a",
   "metadata": {},
   "outputs": [
    {
     "name": "stdout",
     "output_type": "stream",
     "text": [
      "abcdefghijklmnopqrstuvwxyzABCDEFGHIJKLMNOPQRSTUVWXYZ\n",
      "!\"#$%&'()*+,-./:;<=>?@[\\]^_`{|}~\n",
      "0123456789\n"
     ]
    }
   ],
   "source": [
    "import string\n",
    "\n",
    "print(string.ascii_letters)\n",
    "print(string.punctuation)\n",
    "print(string.digits)\n"
   ]
  },
  {
   "cell_type": "code",
   "execution_count": null,
   "id": "2cef67e1",
   "metadata": {},
   "outputs": [
    {
     "name": "stdout",
     "output_type": "stream",
     "text": [
      "[22, 23, 40, 15, 21, 32, 37, 6, 9, 4, 29, 17, 20, 26, 7, 36, 33, 19, 1, 12, 14, 34, 13, 25, 31, 11, 16, 39, 30, 38, 35, 2, 8, 5, 27, 18, 28, 24, 10, 3]\n",
      "[22, 23, 40, 15, 21, 32, 37]\n"
     ]
    }
   ],
   "source": [
    "#Modulit.html\n",
    "#Tehtävä 1\n",
    "\n",
    "# lottonumeroiden arvonta\n",
    "# luo lista numeroista 1-40.\n",
    "# sekoita lista satunnaisjärjestyksen\n",
    "# poimi esimerkiksi listan alusta 7 ensimmäistä numeroa lottoriviksi\n",
    "\n",
    "import random \n",
    "\n",
    "lst = []\n",
    "for i in range(1,41):\n",
    "    lst.append(i)\n",
    "    random.shuffle(lst)\n",
    "\n",
    "lst_7 =lst[:7]\n",
    "print(lst)\n",
    "print(lst_7)\n"
   ]
  },
  {
   "cell_type": "code",
   "execution_count": null,
   "id": "8869a5e9",
   "metadata": {},
   "outputs": [
    {
     "name": "stdout",
     "output_type": "stream",
     "text": [
      "Slasana on:  FKHw%vBw6AN)\n"
     ]
    }
   ],
   "source": [
    "#Luokkatyö_2\n",
    "'''Create a password with twelve characters.\n",
    "The password must contain at least 2 uppercase letters, 1 number and 1 special character\n",
    "\n",
    "use the random methods:\n",
    "sample(), choice() and shuffle()\n",
    "\n",
    "use the string methods:\n",
    "ascii_uppercase = lowercase and uppercase letters\n",
    "digits = numbers\n",
    "punctuation = special characters'''\n",
    "\n",
    "#Abbas 18.09.25 1415\n",
    "\n",
    "from random import shuffle\n",
    "\n",
    "def luoSalasana(): \n",
    "\n",
    "    random_source = string.ascii_letters + string.digits + string.punctuation\n",
    "\n",
    "    password    =   random.choice(string.ascii_uppercase)\n",
    "    password    +=  random.choice(string.ascii_uppercase)\n",
    "    password    +=  random.choice(string.digits)\n",
    "    password    +=  random.choice(string.punctuation)\n",
    "\n",
    "    for i in range (8):\n",
    "        password += random.choice(random_source)\n",
    "\n",
    "    passowrd_list = list(password)\n",
    "    random.shuffle(passowrd_list)\n",
    "    salasana = ''.join(passowrd_list)\n",
    "    return salasana\n",
    "\n",
    "print('Slasana on: ', luoSalasana())\n"
   ]
  }
 ],
 "metadata": {
  "kernelspec": {
   "display_name": "Python 3",
   "language": "python",
   "name": "python3"
  },
  "language_info": {
   "codemirror_mode": {
    "name": "ipython",
    "version": 3
   },
   "file_extension": ".py",
   "mimetype": "text/x-python",
   "name": "python",
   "nbconvert_exporter": "python",
   "pygments_lexer": "ipython3",
   "version": "3.10.4"
  }
 },
 "nbformat": 4,
 "nbformat_minor": 5
}
